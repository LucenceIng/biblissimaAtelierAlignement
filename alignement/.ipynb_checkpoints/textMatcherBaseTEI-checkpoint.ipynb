{
 "cells": [
  {
   "cell_type": "code",
   "execution_count": 1,
   "id": "8688a69a-dac3-459a-9789-6100e76be833",
   "metadata": {},
   "outputs": [],
   "source": [
    "## import des fonctions du fichier contenant les différentes fonctions\n",
    "from fonctions_alignment import *"
   ]
  },
  {
   "cell_type": "code",
   "execution_count": 3,
   "id": "0b1b7b11-ffcd-4d76-ac5a-927368b58716",
   "metadata": {},
   "outputs": [],
   "source": [
    "# on parse les fichiers XML\n",
    "Ao_plein = etree.parse(\"textes/Ao.xml\")\n",
    "Ez_plein = etree.parse(\"textes/Ez.xml\")"
   ]
  },
  {
   "cell_type": "code",
   "execution_count": 4,
   "id": "4861650c-a3b3-4217-b843-be708c78d870",
   "metadata": {},
   "outputs": [
    {
     "data": {
      "text/plain": [
       "<lxml.etree._ElementTree at 0x7faeddb08cc0>"
      ]
     },
     "execution_count": 4,
     "metadata": {},
     "output_type": "execute_result"
    }
   ],
   "source": [
    "Ao_plein"
   ]
  },
  {
   "cell_type": "code",
   "execution_count": null,
   "id": "0227ed33-e90f-4615-8f4f-27455e54ee0d",
   "metadata": {},
   "outputs": [],
   "source": [
    "listeAMatcher = []"
   ]
  },
  {
   "cell_type": "code",
   "execution_count": null,
   "id": "dd46db28-7cc7-4f21-a1c1-d351a7fc1676",
   "metadata": {},
   "outputs": [],
   "source": [
    "Ao = XMLtoJsonParDiv(\"Ao\", Ao_plein,\"div\").prodDiv()\n",
    "Ez = XMLtoJsonParDiv(\"Ez\", Ez_plein,\"div\").prodDiv()"
   ]
  }
 ],
 "metadata": {
  "kernelspec": {
   "display_name": "Python 3 (ipykernel)",
   "language": "python",
   "name": "python3"
  },
  "language_info": {
   "codemirror_mode": {
    "name": "ipython",
    "version": 3
   },
   "file_extension": ".py",
   "mimetype": "text/x-python",
   "name": "python",
   "nbconvert_exporter": "python",
   "pygments_lexer": "ipython3",
   "version": "3.10.12"
  }
 },
 "nbformat": 4,
 "nbformat_minor": 5
}
