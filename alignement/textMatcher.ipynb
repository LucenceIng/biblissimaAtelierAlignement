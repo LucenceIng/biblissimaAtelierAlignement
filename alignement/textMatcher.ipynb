{
 "cells": [
  {
   "cell_type": "code",
   "execution_count": null,
   "id": "e1876598-5772-4792-9344-859cc351f843",
   "metadata": {},
   "outputs": [],
   "source": [
    "## script pour voir le fonctionnement de textMatcher\n",
    "\n",
    "## importer text_matcher\n",
    "from text_matcher import matcher"
   ]
  },
  {
   "cell_type": "code",
   "execution_count": null,
   "id": "15247d77-36cb-4792-885f-456f5b070140",
   "metadata": {},
   "outputs": [],
   "source": [
    "# on ouvre le premier témoin et on le lit ; on enregistre la valeur dans une variable\n",
    "# ce sont des versions .txt ; chaque token est le lemme de la forme\n",
    "Ao = open('textes/Ao_lemmes.txt').read()\n",
    "Ao"
   ]
  },
  {
   "cell_type": "code",
   "execution_count": null,
   "id": "c7c85392-c269-480a-a295-cb9a268ed534",
   "metadata": {},
   "outputs": [],
   "source": [
    "# idem pour l'autre témoin\n",
    "Ez = open('textes/Ez_lemmes.txt').read()\n",
    "Ez"
   ]
  },
  {
   "cell_type": "code",
   "execution_count": null,
   "id": "77136fdb-b9ff-4787-80c8-56f666bd58d7",
   "metadata": {},
   "outputs": [],
   "source": [
    "# on initialise les deux témoins, avec des identifiants dans matcher\n",
    "ta = matcher.Text(Ao, 'Ao')\n",
    "tb = matcher.Text(Ez, 'Ez')"
   ]
  },
  {
   "cell_type": "code",
   "execution_count": null,
   "id": "813219cb-de2d-42a2-9bb6-bed1392811cd",
   "metadata": {},
   "outputs": [],
   "source": [
    "# on fait matcher les deux textes\n",
    "matcher.Matcher(ta, tb).match()\n",
    "\n",
    "## retourne les différents matches, avec la position des premiers et derniers caractères de la séquence concernée"
   ]
  }
 ],
 "metadata": {
  "kernelspec": {
   "display_name": "Python 3 (ipykernel)",
   "language": "python",
   "name": "python3"
  },
  "language_info": {
   "codemirror_mode": {
    "name": "ipython",
    "version": 3
   },
   "file_extension": ".py",
   "mimetype": "text/x-python",
   "name": "python",
   "nbconvert_exporter": "python",
   "pygments_lexer": "ipython3",
   "version": "3.10.12"
  }
 },
 "nbformat": 4,
 "nbformat_minor": 5
}
