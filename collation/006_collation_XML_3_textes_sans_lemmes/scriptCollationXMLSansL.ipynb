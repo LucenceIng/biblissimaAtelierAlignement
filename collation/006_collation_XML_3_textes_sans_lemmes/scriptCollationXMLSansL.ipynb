{
 "cells": [
  {
   "cell_type": "code",
   "execution_count": null,
   "id": "3d63e31e",
   "metadata": {},
   "outputs": [],
   "source": [
    "#import des librairies\n",
    "from collatex import *\n",
    "from lxml import etree\n",
    "from xml.etree import ElementTree as et\n",
    "import os\n",
    "import json"
   ]
  },
  {
   "cell_type": "code",
   "execution_count": null,
   "id": "2acc6a87",
   "metadata": {},
   "outputs": [],
   "source": [
    "#on parse les documents\n",
    "A1 = etree.parse('textes/AsansLemmes.xml')\n",
    "B1 = etree.parse('textes/BsansLemmes.xml')\n",
    "C1 = etree.parse('textes/CsansLemmes.xml')"
   ]
  },
  {
   "cell_type": "code",
   "execution_count": null,
   "id": "e9918c12",
   "metadata": {},
   "outputs": [],
   "source": [
    "#défintion de la fonction qui permet la transformation vers du json, puisque collatex doit prendre du json\n",
    "#on utilise une feuille de transformation\n",
    "def XMLtoJson(id,xmlInput):\n",
    "    #défition de witness comme un dictionnaire\n",
    "    witness = {}\n",
    "    #on donne la première valeur de l'id\n",
    "    witness['id'] = id\n",
    "    #on transforme le document XML : d'abord on tokénise, puis on transforme en json\n",
    "    tokenization = etree.XML(\"\"\"\n",
    "<xsl:stylesheet version=\"1.0\" xmlns:xsl=\"http://www.w3.org/1999/XSL/Transform\">\n",
    "    <xsl:output method=\"xml\" indent=\"yes\" encoding=\"UTF-8\" omit-xml-declaration=\"yes\"/>\n",
    "   \n",
    "    <xsl:template match=\"/*\">\n",
    "        <xsl:copy>\n",
    "            <xsl:apply-templates select=\"@*\"/>\n",
    "            <xsl:apply-templates/>\n",
    "        </xsl:copy>\n",
    "    </xsl:template>\n",
    "    \n",
    "    <xsl:template match=\"text()\">\n",
    "        <xsl:call-template name=\"tokenize\">\n",
    "            <xsl:with-param name=\"param1\" select=\".\" />\n",
    "        </xsl:call-template>\n",
    "    </xsl:template>\n",
    "    \n",
    "    <xsl:template name=\"tokenize\">\n",
    "        <xsl:param name=\"param1\" />\n",
    "        <xsl:variable name=\"Pretoken\" select=\"normalize-space(\n",
    "            substring-before(concat( $param1, ','), ','))\" />\n",
    "        <xsl:variable name=\"Pretoken2\" select=\"normalize-space(\n",
    "            substring-before(concat( $Pretoken, '.'), '.'))\" />\n",
    "        <xsl:variable name=\"token\" select=\"normalize-space(\n",
    "            substring-before(concat($Pretoken2, ' '), ' ')\n",
    "            )\" />\n",
    "\n",
    "        <xsl:if test=\"$token\">\n",
    "        <xsl:choose>\n",
    "            <xsl:when test=\"not(contains($token,  '’'))\">\n",
    "                <w>\n",
    "                    <xsl:value-of select=\"$token\" />\n",
    "                </w>\n",
    "                \n",
    "            </xsl:when>\n",
    "            <xsl:when test=\"contains($token,  '’')\">\n",
    "                <w>\n",
    "                    <xsl:value-of select=\"substring-before($token,'’')\"/>\n",
    "                </w>\n",
    "                <w>\n",
    "                    <xsl:value-of select=\"substring-after($token,'’')\"/>\n",
    "                </w>\n",
    "            </xsl:when>\n",
    "        </xsl:choose>\n",
    "            <xsl:call-template name=\"tokenize\">\n",
    "                <xsl:with-param name=\"param1\" select=\"substring-after($param1, ' ')\" />\n",
    "            </xsl:call-template>\n",
    "        </xsl:if>\n",
    "         \n",
    "    </xsl:template>     \n",
    "    \n",
    "</xsl:stylesheet>\n",
    "    \n",
    "\"\"\")\n",
    "    transformTok = etree.XSLT(tokenization)\n",
    "                           \n",
    "    XSLtoJSON = etree.XML('''\n",
    "<xsl:stylesheet xmlns:xsl=\"http://www.w3.org/1999/XSL/Transform\"\n",
    "    xmlns:xs=\"http://www.w3.org/2001/XMLSchema\"\n",
    "    exclude-result-prefixes=\"xs\"\n",
    "    version=\"1.0\">\n",
    "\n",
    "    <xsl:output method=\"text\"/>\n",
    "\n",
    "    <xsl:template match=\"/\">\n",
    "        <xsl:apply-templates/>\n",
    "    </xsl:template>\n",
    "\n",
    "    <xsl:template match=\"w\">\n",
    "        <xsl:text>{\"t\": \"</xsl:text>\n",
    "        <xsl:apply-templates/>\n",
    "        <xsl:text>\"}</xsl:text>\n",
    "        <xsl:if test=\"following::w\">\n",
    "            <xsl:text>, </xsl:text>\n",
    "        </xsl:if>\n",
    "    </xsl:template>\n",
    "</xsl:stylesheet>\n",
    "    ''')\n",
    "    #on applique l'XSL\n",
    "    monXSL = etree.XSLT(XSLtoJSON)\n",
    "    #on charge le résultat de l'XSL dans la valeur de l'entrée du dicitonnaire \"tokens\"\n",
    "    witness['tokens'] = json.loads( '[' +str(monXSL(transformTok(xmlInput))) +']')\n",
    "    return witness"
   ]
  },
  {
   "cell_type": "code",
   "execution_count": null,
   "id": "c01917b6",
   "metadata": {},
   "outputs": [],
   "source": [
    "#le dictionnaire niveau général\n",
    "json_input = {}\n",
    "#la première entrée qui contient les witnesses\n",
    "json_input['witnesses'] = []\n",
    "#application de la fonction de transformation sur A puis sur B puis sur C\n",
    "json_input['witnesses'].append(XMLtoJson('A',A1))\n",
    "json_input['witnesses'].append(XMLtoJson('B',B1))\n",
    "json_input['witnesses'].append(XMLtoJson('C',C1))\n",
    "print(json_input)\n",
    "#on a bien à  le json créé !      "
   ]
  },
  {
   "cell_type": "code",
   "execution_count": null,
   "id": "2f611050",
   "metadata": {},
   "outputs": [],
   "source": [
    "#collation\n",
    "coll = collate(json_input, output=\"table\",segmentation=False)\n",
    "coll"
   ]
  },
  {
   "cell_type": "code",
   "execution_count": null,
   "id": "bcdd4a2d",
   "metadata": {},
   "outputs": [],
   "source": [
    "#définition de la fonction notre export\n",
    "def notre_export_xml(table):\n",
    "    readings = []\n",
    "    for column in table.columns:\n",
    "        #création élément app\n",
    "        app = et.Element('app')\n",
    "        for key, value in sorted(column.tokens_per_witness.items()):\n",
    "            #création d'élément rdg\n",
    "            child = et.Element('rdg')\n",
    "            child.attrib['wit'] = \"#\" + key\n",
    "            child.text = \"\".join(str(item.token_data[\"t\"]) for item in value)\n",
    "            app.append(child)\n",
    "        result = et.tostring(app, encoding=\"unicode\")\n",
    "        readings.append(result)\n",
    "    return \"\".join(readings)"
   ]
  },
  {
   "cell_type": "code",
   "execution_count": null,
   "id": "a85a5c42",
   "metadata": {},
   "outputs": [],
   "source": [
    "collResult = notre_export_xml(coll)"
   ]
  },
  {
   "cell_type": "code",
   "execution_count": null,
   "id": "7adface5",
   "metadata": {},
   "outputs": [],
   "source": [
    "docCollResult = \"<text>\" + ''.join(collResult) + \"</text>\""
   ]
  },
  {
   "cell_type": "code",
   "execution_count": null,
   "id": "c2cdb72c",
   "metadata": {},
   "outputs": [],
   "source": [
    "docCollResult"
   ]
  },
  {
   "cell_type": "code",
   "execution_count": null,
   "id": "1712909a",
   "metadata": {},
   "outputs": [],
   "source": [
    "#on écrit le résultat (une simple chaîne de caractères) dans notre document XML\n",
    "with open(\"resultat_collation_depuisXML3SansL.xml\", \"w\") as text_file:\n",
    "    text_file.write(docCollResult)   "
   ]
  }
 ],
 "metadata": {
  "kernelspec": {
   "display_name": "Python 3 (ipykernel)",
   "language": "python",
   "name": "python3"
  },
  "language_info": {
   "codemirror_mode": {
    "name": "ipython",
    "version": 3
   },
   "file_extension": ".py",
   "mimetype": "text/x-python",
   "name": "python",
   "nbconvert_exporter": "python",
   "pygments_lexer": "ipython3",
   "version": "3.10.12"
  }
 },
 "nbformat": 4,
 "nbformat_minor": 5
}
