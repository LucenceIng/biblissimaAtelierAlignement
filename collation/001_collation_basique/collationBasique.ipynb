{
 "cells": [
  {
   "cell_type": "code",
   "execution_count": null,
   "id": "4dcf2c2b",
   "metadata": {},
   "outputs": [],
   "source": [
    "#importer collatex\n",
    "from collatex import *"
   ]
  },
  {
   "cell_type": "code",
   "execution_count": null,
   "id": "ad108997",
   "metadata": {},
   "outputs": [],
   "source": [
    "#on crée l'objet collation de classe Collation()\n",
    "collation = Collation()\n",
    "\n",
    "#on ajoute deux témoins : on a besoin de l'identifiant du témoin et du texte\n",
    "collation.add_plain_witness(\"A\", \"Mais au povre home doit l’en doner tex choses qui soient plus boenes que beles.\")\n",
    "collation.add_plain_witness(\"B\", \"mais aux povres hommes doit on telles choses donner qui soient plus bonnes que belles.\")"
   ]
  },
  {
   "cell_type": "code",
   "execution_count": null,
   "id": "f4d02435",
   "metadata": {},
   "outputs": [],
   "source": [
    "#on collationne\n",
    "alignment_table = collate(collation)"
   ]
  },
  {
   "cell_type": "code",
   "execution_count": null,
   "id": "c3b303f6",
   "metadata": {},
   "outputs": [],
   "source": [
    "#par défaut, table\n",
    "print(alignment_table)"
   ]
  },
  {
   "cell_type": "code",
   "execution_count": null,
   "id": "ba218340",
   "metadata": {},
   "outputs": [],
   "source": [
    "#ajout de l'option : segmentation=False pour aligner mot à mot\n",
    "alignment_table = collate(collation,segmentation=False)\n",
    "\n",
    "print(alignment_table)"
   ]
  },
  {
   "cell_type": "code",
   "execution_count": null,
   "id": "8a2ee3e7",
   "metadata": {},
   "outputs": [],
   "source": [
    "#sortie HTML\n",
    "collate(collation, output=\"html\", layout=\"vertical\",segmentation=False)"
   ]
  },
  {
   "cell_type": "code",
   "execution_count": null,
   "id": "fa842dc3",
   "metadata": {},
   "outputs": [],
   "source": [
    "#HTML colloré\n",
    "collate(collation, output=\"html2\", segmentation=False)"
   ]
  },
  {
   "cell_type": "code",
   "execution_count": null,
   "id": "bfdbb72b",
   "metadata": {},
   "outputs": [],
   "source": [
    "# sortie XML\n",
    "collate(collation,output=\"xml\",segmentation=False)"
   ]
  },
  {
   "cell_type": "code",
   "execution_count": null,
   "id": "b5f1e398",
   "metadata": {},
   "outputs": [],
   "source": [
    "# sortie TEI\n",
    "collate(collation, output=\"tei\", segmentation=False, near_match=True, indent=True)"
   ]
  },
  {
   "cell_type": "code",
   "execution_count": null,
   "id": "a5981a1b",
   "metadata": {},
   "outputs": [],
   "source": [
    "## le fonctionnement de l'alignement\n",
    "\n",
    "#nouvel objet collation\n",
    "coll = Collation()\n",
    "#on ajoute les témoins\n",
    "coll.add_plain_witness(\"A\", \"qui soient plus boenes que beles\")\n",
    "#fausse version de B\n",
    "coll.add_plain_witness(\"B\", \"qui soient plus bonnes que tres belles\")"
   ]
  },
  {
   "cell_type": "code",
   "execution_count": null,
   "id": "545f1079",
   "metadata": {},
   "outputs": [],
   "source": [
    "#table\n",
    "print(collate(coll, segmentation=False))"
   ]
  },
  {
   "cell_type": "code",
   "execution_count": null,
   "id": "65d95888",
   "metadata": {},
   "outputs": [],
   "source": [
    "#utilisation de la fonction near_match dans la table\n",
    "print(collate(coll, segmentation=False,near_match=True))"
   ]
  },
  {
   "cell_type": "code",
   "execution_count": null,
   "id": "b0380393",
   "metadata": {},
   "outputs": [],
   "source": [
    "## ajouter un témoin\n",
    "\n",
    "#nouvel objet collation\n",
    "collation2 = Collation()"
   ]
  },
  {
   "cell_type": "code",
   "execution_count": null,
   "id": "6328405c",
   "metadata": {},
   "outputs": [],
   "source": [
    "#on modifie le témoin A\n",
    "collation2.add_plain_witness(\"A\", \"Mais au povre home doit l’en doner tex choses qui soient plus boenes que beles, et plus porfitables que plaisanz.\")\n",
    "#on garde B\n",
    "collation2.add_plain_witness(\"B\", \"mais aux povres hommes doit on telles choses donner qui soient plus bonnes que belles.\")"
   ]
  },
  {
   "cell_type": "code",
   "execution_count": null,
   "id": "9f0b6b66",
   "metadata": {},
   "outputs": [],
   "source": [
    "#on ajoute le témoin C\n",
    "collation2.add_plain_witness(\"C\", \"Mais au povre home doit l’en douner tex choses qui soient plus boines que beles et plus profitables que plaisans.\")"
   ]
  },
  {
   "cell_type": "code",
   "execution_count": null,
   "id": "6de23809",
   "metadata": {},
   "outputs": [],
   "source": [
    "#produire en mode table le résultat de la collation à trois témoins\n",
    "collate(collation2, output=\"html\",near_match=True,segmentation=False)"
   ]
  },
  {
   "cell_type": "code",
   "execution_count": null,
   "id": "e118a966",
   "metadata": {},
   "outputs": [],
   "source": [
    "#sortie HTML2\n",
    "collate(collation2, output=\"html2\",near_match=True,segmentation=False)"
   ]
  },
  {
   "cell_type": "code",
   "execution_count": null,
   "id": "f8dafae1",
   "metadata": {},
   "outputs": [],
   "source": [
    "##enregistrer le résultat dans un fichier\n",
    "\n",
    "# production sur les trois témoins de la collation avec le format XML\n",
    "collXML = collate(collation2,output=\"xml\",segmentation=False,indent=True)\n",
    "\n",
    "#enregistrement du résultat dans un fichier qu'on crée\n",
    "with open(\"resultat_collation_basique.xml\", \"w\") as text_file:\n",
    "    text_file.write(collXML)"
   ]
  }
 ],
 "metadata": {
  "kernelspec": {
   "display_name": "Python 3",
   "language": "python",
   "name": "python3"
  },
  "language_info": {
   "codemirror_mode": {
    "name": "ipython",
    "version": 3
   },
   "file_extension": ".py",
   "mimetype": "text/x-python",
   "name": "python",
   "nbconvert_exporter": "python",
   "pygments_lexer": "ipython3",
   "version": "3.6.9"
  }
 },
 "nbformat": 4,
 "nbformat_minor": 5
}
