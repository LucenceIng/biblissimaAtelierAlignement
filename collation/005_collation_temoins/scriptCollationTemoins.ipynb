{
 "cells": [
  {
   "cell_type": "code",
   "execution_count": null,
   "id": "24c5b77e",
   "metadata": {},
   "outputs": [],
   "source": [
    "#import des librairies\n",
    "from collatex import *\n",
    "from lxml import etree\n",
    "import os\n",
    "import json\n",
    "#ici, on a stocké les fonctions dans un autre fichier, qu'on appelle\n",
    "from fonctions import *\n",
    "\n",
    "#le script crée un dossier 'sorties' avec des sous-dossiers contenant les tables et aussi les résultats par Div\n",
    "#le fichier xml final se place également dans ce dossier"
   ]
  },
  {
   "cell_type": "code",
   "execution_count": null,
   "id": "9deb3403",
   "metadata": {},
   "outputs": [],
   "source": [
    "#création des témoins : on les parse pour récupérer\n",
    "A1 = etree.parse('textes/A.xml')\n",
    "B1 = etree.parse('textes/B.xml')"
   ]
  },
  {
   "cell_type": "code",
   "execution_count": null,
   "id": "9c337437",
   "metadata": {
    "scrolled": false
   },
   "outputs": [],
   "source": [
    "v = []\n",
    "vDiv = []\n",
    "propreId = 1\n",
    "\n",
    "#il s'agit de la même boucle que précédemment, mais ici on a une surstructuration de div\n",
    "#les div sont liées par leurs attributs @xml:id et @corresp\n",
    "\n",
    "#pour chaque div\n",
    "for div in A1.xpath(\"/text/div\"):\n",
    "    #on récupère l'id\n",
    "    iDiv = div.get('{http://www.w3.org/XML/1998/namespace}id')\n",
    "    print(iDiv)\n",
    "    #pour chaque div telle que cela correspond à l'id\n",
    "    for divEz in B1.xpath(\"/text/div[@corresp='\"+iDiv+\"']\"):\n",
    "        iDivEz = divEz.get('{http://www.w3.org/XML/1998/namespace}id')\n",
    "    for par in A1.xpath(\"/text/div[@xml:id='\"+iDiv+\"']/p\"):\n",
    "        #on récupère le numéro de paragraphe\n",
    "        i = par.get('n')\n",
    "        # on vérifie que tout se passe bien\n",
    "        print(i)\n",
    "        #A = le paragraphe en question\n",
    "        A = par\n",
    "        print(A)\n",
    "        #on récupère aussi le paragraphe qui correspond en Ez (B)  \n",
    "        for p in B1.xpath(\"/text/div[@xml:id='\"+iDivEz+\"']/p[@n='\"+i+\"']\"):\n",
    "        # B = le paragraphe qui porte le même numéro que en A\n",
    "            B = p\n",
    "            print(B)\n",
    "        \n",
    "        json_input = {}\n",
    "        json_input['witnesses'] = []\n",
    "        json_input['witnesses'].append(XMLtoJson('A',A))\n",
    "        json_input['witnesses'].append(XMLtoJson('B',B))\n",
    "        print(json_input)\n",
    "        \n",
    "        #création de l'objet collation\n",
    "        json_collation = Collation()\n",
    "        for witness in json_input[\"witnesses\"]:\n",
    "            json_collation.add_witness(witness)\n",
    "        collation = json_collation\n",
    "        print(collation)\n",
    "        #vérif XML\n",
    "        coll = collate(collation, output=\"xml\",segmentation=False)\n",
    "        #collation\n",
    "        table = collate(collation, output=\"table\",segmentation=False)\n",
    "        #export spécifique pour avoir des belles tables\n",
    "        t = notretable(table)\n",
    "        #on transforme la table sous notre format en chaîne de caractères, qu'on écrite ensuite dans un fichier : attention : 123 fichiers\n",
    "        tables = str(t)\n",
    "        if not os.path.isdir(\"sorties\"):\n",
    "            os.makedirs(\"sorties\")\n",
    "        if not os.path.isdir(\"./sorties/tables\"):\n",
    "            os.makedirs(\"./sorties/tables\")\n",
    "        with open(\"./sorties/tables/table_\"+iDiv[3:6]+\"_\"+i, \"w\") as w:\n",
    "            w.write(tables)\n",
    "        result = notre_export_xml(table)\n",
    "        result    \n",
    "\n",
    "    #création d'un objet dans lequel on stocke notre résultat, à l'intérieur d'un paragraphe qui se définit comme tel\n",
    "        doc = '<p n=\"' + i +'\">' + result + '</p>'\n",
    "        v.append(doc)\n",
    "    #on sort de la boucle sur les paragraphes    \n",
    "    #ajout pour réunir les div    \n",
    "    valDiv = '<div xml:id=\"divColl' + str(propreId) +'\" corresp=\"' + iDiv +'_'+ iDivEz +'\">'+''.join(v) +  '</div>'\n",
    "    if not os.path.isdir(\"./sorties/collParDiv\"):\n",
    "        os.makedirs(\"./sorties/collParDiv\")\n",
    "    #on va écrire chaque div dans un fichier séparé en plus    \n",
    "    with open(\"./sorties/collParDiv/collationParDiv\"+str(propreId)+\".xml\", \"w\") as text_fileDiv:\n",
    "        text_fileDiv.write(valDiv)\n",
    "    vDiv.append(valDiv)\n",
    "    propreId+=1\n",
    "    v = []        "
   ]
  },
  {
   "cell_type": "code",
   "execution_count": null,
   "id": "16b41854",
   "metadata": {},
   "outputs": [],
   "source": [
    "#on crée un objet dans lequel on place notre liste, à l'intérieur d'une balise racine <text>\n",
    "val = \"<text>\" + ''.join(vDiv) + \"</text>\""
   ]
  },
  {
   "cell_type": "code",
   "execution_count": null,
   "id": "9bebaf14",
   "metadata": {},
   "outputs": [],
   "source": [
    "#on écrit le résultat (une simple chaîne de caractères) dans notre document XML\n",
    "with open(\"./sorties/resultat_collation_divEtPar.xml\", \"w\") as text_file:\n",
    "    text_file.write(val)"
   ]
  },
  {
   "cell_type": "code",
   "execution_count": null,
   "id": "055b1fb2",
   "metadata": {},
   "outputs": [],
   "source": [
    "#on peut regarder ce que donne l'export table\n",
    "table = collate(collation, output=\"table\",segmentation=False)\n",
    "t = notretable(table)\n",
    "t"
   ]
  }
 ],
 "metadata": {
  "kernelspec": {
   "display_name": "Python 3",
   "language": "python",
   "name": "python3"
  },
  "language_info": {
   "codemirror_mode": {
    "name": "ipython",
    "version": 3
   },
   "file_extension": ".py",
   "mimetype": "text/x-python",
   "name": "python",
   "nbconvert_exporter": "python",
   "pygments_lexer": "ipython3",
   "version": "3.6.9"
  }
 },
 "nbformat": 4,
 "nbformat_minor": 5
}
