{
 "cells": [
  {
   "cell_type": "code",
   "execution_count": null,
   "id": "80d54327",
   "metadata": {},
   "outputs": [],
   "source": [
    "#import des librairies\n",
    "from collatex import *\n",
    "from lxml import etree\n",
    "import os\n",
    "from xml.etree import ElementTree as et\n",
    "import json"
   ]
  },
  {
   "cell_type": "code",
   "execution_count": null,
   "id": "e6a1212c",
   "metadata": {},
   "outputs": [],
   "source": [
    "#on a deux fichiers, Apar.xml et Bpar.xml : on va les parser\n",
    "\n",
    "A1 = etree.parse('textes/Apar.xml')\n",
    "B1 = etree.parse('textes/Bpar.xml')"
   ]
  },
  {
   "cell_type": "code",
   "execution_count": null,
   "id": "9e16eccc",
   "metadata": {},
   "outputs": [],
   "source": [
    "#parser permet de récupérer les valeurs des différents noeuds, par exemple\n",
    "A1.xpath(\"/text/p/@n\")"
   ]
  },
  {
   "cell_type": "code",
   "execution_count": null,
   "id": "da4de433",
   "metadata": {},
   "outputs": [],
   "source": [
    "#défintion de la fonction qui permet la transformation vers du json, puisque collatex doit prendre du json\n",
    "#on utilise une feuille de transformation\n",
    "def XMLtoJson(id,xmlInput):\n",
    "    #défition de witness comme un dictionnaire\n",
    "    witness = {}\n",
    "    #on donne la première valeur de l'id\n",
    "    witness['id'] = id\n",
    "    #on transforme le document XML\n",
    "    monXSL = etree.XML('''\n",
    "<xsl:stylesheet xmlns:xsl=\"http://www.w3.org/1999/XSL/Transform\"\n",
    "    xmlns:xs=\"http://www.w3.org/2001/XMLSchema\"\n",
    "    exclude-result-prefixes=\"xs\"\n",
    "    version=\"1.0\">\n",
    "\n",
    "    <xsl:output method=\"text\"/>\n",
    "\n",
    "    <xsl:template match=\"/\">\n",
    "        <xsl:apply-templates/>\n",
    "    </xsl:template>\n",
    "\n",
    "    <xsl:template match=\"w\">\n",
    "        <xsl:text>{\"text\": \"</xsl:text>\n",
    "        <xsl:apply-templates/>\n",
    "        <xsl:text>\", \"i\": \"</xsl:text>\n",
    "        <xsl:value-of select=\"@xml:id\"/>\n",
    "        <xsl:text>\", \"t\": \"</xsl:text>\n",
    "        <xsl:value-of select=\"@lemma\"/>\n",
    "        <xsl:text>\", \"pos\": \"</xsl:text>\n",
    "        <xsl:value-of select=\"@pos\"/>\n",
    "        <xsl:text>\"}</xsl:text>\n",
    "        <xsl:if test=\"following::w\">\n",
    "            <xsl:text>, </xsl:text>\n",
    "        </xsl:if>\n",
    "    </xsl:template>\n",
    "</xsl:stylesheet>\n",
    "    ''')\n",
    "    #on applique l'XSL\n",
    "    monXSL = etree.XSLT(monXSL)\n",
    "    #on charge le résultat de l'XSL dans la valeur de l'entrée du dicitonnaire \"tokens\"\n",
    "    witness['tokens'] = json.loads( '[' +str(monXSL(xmlInput)) +']')\n",
    "    return witness"
   ]
  },
  {
   "cell_type": "code",
   "execution_count": null,
   "id": "c4892f5c",
   "metadata": {},
   "outputs": [],
   "source": [
    "#définition de la fonction notre export\n",
    "\n",
    "def notre_export_xml(collation):\n",
    "    readings = []\n",
    "    for column in table.columns:\n",
    "        #création élément app\n",
    "        app = et.Element('app')\n",
    "        for key, value in sorted(column.tokens_per_witness.items()):\n",
    "            child = et.Element('rdg')\n",
    "            child.attrib['wit'] = \"#\" + key\n",
    "            #on créer les attributs pour garder nos valeurs\n",
    "            for item in value:\n",
    "                child.attrib['xml:id'] = item.token_data[\"i\"]\n",
    "                child.attrib['lemma']= item.token_data[\"t\"]\n",
    "                child.attrib['pos'] = item.token_data[\"pos\"]\n",
    "            child.text = \"\".join(str(item.token_data[\"text\"]) for item in value)\n",
    "            app.append(child)\n",
    "        result = et.tostring(app, encoding=\"unicode\")\n",
    "        readings.append(result)\n",
    "    return \"\".join(readings)"
   ]
  },
  {
   "cell_type": "code",
   "execution_count": null,
   "id": "80710d0d",
   "metadata": {},
   "outputs": [],
   "source": [
    "#création d'une liste vide dans laquelle on va stocker nos valeurs\n",
    "listeDesP = []\n",
    "\n",
    "#création d'une boucle\n",
    "for par in A1.xpath(\"/text/p\"):\n",
    "    #on récupère le numéro de paragraphe\n",
    "    i = par.get('n')\n",
    "    # on vérifie que tout se passe bien\n",
    "    print(i)\n",
    "    #A = le paragraphe en question\n",
    "    A = par\n",
    "    print(A)\n",
    "    #on récupère aussi le paragraphe qui correspond en Ez (B)  \n",
    "    for p in B1.xpath(\"/text/p[@n='\"+i+\"']\"):\n",
    "        #B = le paragraphe qui porte le même numéro que en A\n",
    "        B = p\n",
    "        print(B)\n",
    "        \n",
    "    #définition des témoins\n",
    "        #le dictionnaire niveau général\n",
    "        json_input = {}\n",
    "        #la première entrée qui contient les witnesses\n",
    "        json_input['witnesses'] = []\n",
    "        #application de la fonction de transformation sur A puis sur B\n",
    "        json_input['witnesses'].append(XMLtoJson('A',A))\n",
    "        json_input['witnesses'].append(XMLtoJson('B',B))\n",
    "        print(json_input)\n",
    "    #on a bien à chaque fois des json qui se sont créés\n",
    "    \n",
    "        #création de l'objet collation\n",
    "        json_collation = Collation()\n",
    "        #pour chaque témoin dans le json\n",
    "        for witness in json_input[\"witnesses\"]:\n",
    "            #on utilise la fonction add_witness de la classe Collation\n",
    "            json_collation.add_witness(witness)\n",
    "        #changement de nom    \n",
    "        collation = json_collation\n",
    "        print(collation)\n",
    "        #on collationne avec une sortie table\n",
    "        table = collate(collation, output=\"table\",segmentation=False)\n",
    "        #on utilise la fonction export\n",
    "        result = notre_export_xml(table)\n",
    "        #on crée un élément p pour chacune des collations réalisées\n",
    "        doc = '<p n=\"' + i +'\">' + result + '</p>'\n",
    "        #on ajoute à la liste l'ensemble créé\n",
    "        listeDesP.append(doc)"
   ]
  },
  {
   "cell_type": "code",
   "execution_count": null,
   "id": "ae684bb6",
   "metadata": {},
   "outputs": [],
   "source": [
    "listeDesP"
   ]
  },
  {
   "cell_type": "code",
   "execution_count": null,
   "id": "b8c19ab8",
   "metadata": {},
   "outputs": [],
   "source": [
    "#on crée un objet dans lequel on place notre liste, à l'intérieur d'une balise racine <text>\n",
    "docCollPar = \"<text>\" + ''.join(listeDesP) + \"</text>\"\n",
    "\n",
    "docCollPar"
   ]
  },
  {
   "cell_type": "code",
   "execution_count": null,
   "id": "3478677d",
   "metadata": {},
   "outputs": [],
   "source": [
    "#on écrit le résultat (une simple chaîne de caractères) dans notre document XML\n",
    "with open(\"resultat_collation_paragraphes.xml\", \"w\") as text_file:\n",
    "    text_file.write(docCollPar)   "
   ]
  }
 ],
 "metadata": {
  "kernelspec": {
   "display_name": "Python 3 (ipykernel)",
   "language": "python",
   "name": "python3"
  },
  "language_info": {
   "codemirror_mode": {
    "name": "ipython",
    "version": 3
   },
   "file_extension": ".py",
   "mimetype": "text/x-python",
   "name": "python",
   "nbconvert_exporter": "python",
   "pygments_lexer": "ipython3",
   "version": "3.10.12"
  }
 },
 "nbformat": 4,
 "nbformat_minor": 5
}
